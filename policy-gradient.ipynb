{
 "cells": [
  {
   "cell_type": "markdown",
   "metadata": {
    "deletable": true,
    "editable": true
   },
   "source": [
    "# Policy Gradient Algorithm\n",
    "\n",
    "### Dependencies"
   ]
  },
  {
   "cell_type": "code",
   "execution_count": 1,
   "metadata": {
    "collapsed": true,
    "deletable": true,
    "editable": true
   },
   "outputs": [],
   "source": [
    "import numpy as np\n",
    "import tensorflow as tf"
   ]
  },
  {
   "cell_type": "code",
   "execution_count": 2,
   "metadata": {
    "collapsed": true,
    "deletable": true,
    "editable": true
   },
   "outputs": [],
   "source": [
    "bandits = [0.2, 0, -0.2, -5]\n",
    "num_bandits = len(bandits)"
   ]
  },
  {
   "cell_type": "code",
   "execution_count": 3,
   "metadata": {
    "collapsed": true,
    "deletable": true,
    "editable": true
   },
   "outputs": [],
   "source": [
    "def pull_bandit(bandit):\n",
    "    result = np.random.randn(1)\n",
    "    return 1 if result > bandit else -1"
   ]
  },
  {
   "cell_type": "markdown",
   "metadata": {
    "deletable": true,
    "editable": true
   },
   "source": [
    "### The Model"
   ]
  },
  {
   "cell_type": "code",
   "execution_count": 4,
   "metadata": {
    "collapsed": true,
    "deletable": true,
    "editable": true
   },
   "outputs": [],
   "source": [
    "tf.reset_default_graph()\n",
    "\n",
    "weights = tf.Variable(tf.ones([num_bandits]))\n",
    "chosen_action = tf.argmax(weights, axis=0)"
   ]
  },
  {
   "cell_type": "code",
   "execution_count": 5,
   "metadata": {
    "collapsed": true,
    "deletable": true,
    "editable": true
   },
   "outputs": [],
   "source": [
    "reward_placeholder = tf.placeholder(tf.float32, shape=[1])\n",
    "action_placeholder = tf.placeholder(tf.int32, shape=[1])\n",
    "responsible_weight = tf.slice(weights, action_placeholder, size=[1])"
   ]
  },
  {
   "cell_type": "markdown",
   "metadata": {
    "deletable": true,
    "editable": true
   },
   "source": [
    "### Loss function and optimizer"
   ]
  },
  {
   "cell_type": "code",
   "execution_count": 6,
   "metadata": {
    "collapsed": false,
    "deletable": true,
    "editable": true
   },
   "outputs": [],
   "source": [
    "# loss = log(policy) * advantage    \n",
    "# policy is the learned weights while advantage is the reward-baseline\n",
    "loss = -(tf.log(responsible_weight) * reward_placeholder)\n",
    "optimizer = tf.train.GradientDescentOptimizer(learning_rate=1e-3)\n",
    "update = optimizer.minimize(loss)"
   ]
  },
  {
   "cell_type": "markdown",
   "metadata": {
    "deletable": true,
    "editable": true
   },
   "source": [
    "## Training the network\n",
    "\n",
    "### Hyperparameters"
   ]
  },
  {
   "cell_type": "code",
   "execution_count": 7,
   "metadata": {
    "collapsed": true,
    "deletable": true,
    "editable": true
   },
   "outputs": [],
   "source": [
    "total_episodes = 1000\n",
    "total_reward = np.zeros(num_bandits)\n",
    "e = 0.9  # epsilon - chance of trying different action (E-Greedy Exploration)"
   ]
  },
  {
   "cell_type": "markdown",
   "metadata": {
    "deletable": true,
    "editable": true
   },
   "source": [
    "### Training episodes"
   ]
  },
  {
   "cell_type": "code",
   "execution_count": 8,
   "metadata": {
    "collapsed": false,
    "deletable": true,
    "editable": true,
    "scrolled": false
   },
   "outputs": [
    {
     "name": "stdout",
     "output_type": "stream",
     "text": [
      "Bandit 2 looks good: [-1.  0.  0.  0.]\n",
      "Bandit 4 looks good: [ -2.  -5.  -1.  11.]\n",
      "Bandit 4 looks good: [-10.  -7.  -1.  31.]\n",
      "Bandit 4 looks good: [-11. -10.   1.  51.]\n",
      "Bandit 4 looks good: [-13.  -8.  -1.  75.]\n",
      "Bandit 4 looks good: [-15.  -8.  -3.  95.]\n",
      "Bandit 4 looks good: [ -14.   -9.   -1.  115.]\n",
      "Bandit 4 looks good: [ -14.   -8.    1.  136.]\n",
      "Bandit 4 looks good: [ -11.   -8.    4.  156.]\n",
      "Bandit 4 looks good: [ -18.   -8.    4.  173.]\n",
      "Bandit 4 looks good: [ -17.   -4.    5.  193.]\n",
      "Bandit 4 looks good: [ -18.   -6.    5.  214.]\n",
      "Bandit 4 looks good: [ -22.   -5.   10.  228.]\n",
      "Bandit 4 looks good: [ -23.   -4.    9.  251.]\n",
      "Bandit 4 looks good: [ -25.   -6.   10.  272.]\n",
      "Bandit 4 looks good: [ -33.    3.   12.  287.]\n",
      "Bandit 4 looks good: [ -29.    1.   14.  301.]\n",
      "Bandit 4 looks good: [ -32.    3.   21.  321.]\n",
      "Bandit 4 looks good: [ -36.    5.   25.  331.]\n",
      "Bandit 4 looks good: [ -32.    7.   27.  351.]\n",
      "\n",
      "\n",
      "The agent thinks bandit 4 is the most promising...\n",
      "...and it was right!\n"
     ]
    }
   ],
   "source": [
    "init = tf.global_variables_initializer()\n",
    "\n",
    "with tf.Session() as sess:\n",
    "    sess.run(init)\n",
    "    i = 0\n",
    "    while i < total_episodes:\n",
    "        # Epsilon greedy exploration \n",
    "        # choose random action - exploration or action from network - exploitation\n",
    "        if np.random.randn(1) < e:\n",
    "            action = np.random.randint(num_bandits)\n",
    "        else:\n",
    "            action = sess.run(chosen_action)\n",
    "        # get reward from picking one of the bandits\n",
    "        reward = pull_bandit(bandits[action])\n",
    "        # Update the network\n",
    "        _, _resp_weight, _weights = sess.run([update, responsible_weight, weights],\n",
    "                                             feed_dict={reward_placeholder: [reward],\n",
    "                                                        action_placeholder: [action]})\n",
    "        total_reward[action] += reward\n",
    "        # Logging\n",
    "        if i % 50 == 0:\n",
    "            print(f'Bandit {np.argmax(_weights)+1} looks good: {total_reward}')\n",
    "        # increment i\n",
    "        i += 1\n",
    "\n",
    "print(f'\\n\\nThe agent thinks bandit {np.argmax(_weights) + 1} is the most promising...')\n",
    "if np.argmax(_weights) == np.argmax(-np.array(bandits)):\n",
    "    print('...and it was right!')\n",
    "else:\n",
    "    print('...and it was wrong!')"
   ]
  },
  {
   "cell_type": "code",
   "execution_count": null,
   "metadata": {
    "collapsed": true
   },
   "outputs": [],
   "source": []
  }
 ],
 "metadata": {
  "kernelspec": {
   "display_name": "Python 3",
   "language": "python",
   "name": "python3"
  },
  "language_info": {
   "codemirror_mode": {
    "name": "ipython",
    "version": 3
   },
   "file_extension": ".py",
   "mimetype": "text/x-python",
   "name": "python",
   "nbconvert_exporter": "python",
   "pygments_lexer": "ipython3",
   "version": "3.6.3"
  }
 },
 "nbformat": 4,
 "nbformat_minor": 2
}
