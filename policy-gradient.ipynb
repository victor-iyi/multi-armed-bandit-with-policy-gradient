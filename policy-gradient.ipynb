{
 "cells": [
  {
   "cell_type": "markdown",
   "metadata": {},
   "source": [
    "# Policy Gradient"
   ]
  },
  {
   "cell_type": "code",
   "execution_count": 1,
   "metadata": {
    "collapsed": true
   },
   "outputs": [],
   "source": [
    "import sys\n",
    "\n",
    "import numpy as np\n",
    "import tensorflow as tf"
   ]
  },
  {
   "cell_type": "code",
   "execution_count": 2,
   "metadata": {
    "collapsed": true
   },
   "outputs": [],
   "source": [
    "bandits = [0.2, 0, -0.2, -5]\n",
    "num_bandits = len(bandits)"
   ]
  },
  {
   "cell_type": "code",
   "execution_count": 3,
   "metadata": {
    "collapsed": true
   },
   "outputs": [],
   "source": [
    "def pull_bandit(bandit):\n",
    "    result = np.random.randn(1)\n",
    "    return 1 if result > bandit else -1"
   ]
  },
  {
   "cell_type": "code",
   "execution_count": 4,
   "metadata": {
    "collapsed": true
   },
   "outputs": [],
   "source": [
    "tf.reset_default_graph()\n",
    "\n",
    "weights = tf.Variable(tf.ones([num_bandits]))\n",
    "chosen_action = tf.argmax(weights, axis=0)"
   ]
  },
  {
   "cell_type": "code",
   "execution_count": 5,
   "metadata": {
    "collapsed": true
   },
   "outputs": [],
   "source": [
    "reward_placeholder = tf.placeholder(tf.float32, shape=[1])\n",
    "action_placeholder = tf.placeholder(tf.int32, shape=[1])\n",
    "responsible_weight = tf.slice(weights, action_placeholder, size=[1])"
   ]
  },
  {
   "cell_type": "code",
   "execution_count": 6,
   "metadata": {
    "collapsed": false
   },
   "outputs": [],
   "source": [
    "# loss = log(policy) * advantage    \n",
    "# policy is the learned weights while advantage is the reward-baseline\n",
    "loss = -(tf.log(responsible_weight) * reward_placeholder)\n",
    "optimizer = tf.train.GradientDescentOptimizer(learning_rate=1e-3)\n",
    "update = optimizer.minimize(loss)"
   ]
  },
  {
   "cell_type": "markdown",
   "metadata": {},
   "source": [
    "### Training the network"
   ]
  },
  {
   "cell_type": "code",
   "execution_count": 7,
   "metadata": {
    "collapsed": true
   },
   "outputs": [],
   "source": [
    "total_episodes = 1000\n",
    "total_reward = np.zeros(num_bandits)\n",
    "e = 0.1  # epsilon - chance of trying different action (E-Greedy Exploration)"
   ]
  },
  {
   "cell_type": "code",
   "execution_count": 8,
   "metadata": {
    "collapsed": false
   },
   "outputs": [
    {
     "name": "stdout",
     "output_type": "stream",
     "text": [
      "Running reward for the 4 bandits: [ 1.  0.  0.  0.]\n",
      "Running reward for the 4 bandits: [-2.  2.  5.  8.]\n",
      "Running reward for the 4 bandits: [ -4.   1.   9.  33.]\n",
      "Running reward for the 4 bandits: [ -7.  -3.   7.  66.]\n",
      "Running reward for the 4 bandits: [-10.   2.   9.  96.]\n",
      "Running reward for the 4 bandits: [ -11.    2.   11.  123.]\n",
      "Running reward for the 4 bandits: [ -12.    4.    9.  146.]\n",
      "Running reward for the 4 bandits: [ -14.    4.    5.  176.]\n",
      "Running reward for the 4 bandits: [ -12.    8.    7.  206.]\n",
      "Running reward for the 4 bandits: [ -16.   11.   10.  232.]\n",
      "Running reward for the 4 bandits: [ -19.   12.   12.  264.]\n",
      "Running reward for the 4 bandits: [ -23.   12.   12.  294.]\n",
      "Running reward for the 4 bandits: [ -23.   13.    9.  326.]\n",
      "Running reward for the 4 bandits: [ -20.   14.   11.  358.]\n",
      "Running reward for the 4 bandits: [ -21.   10.   14.  386.]\n",
      "Running reward for the 4 bandits: [ -21.   12.   17.  413.]\n",
      "Running reward for the 4 bandits: [ -25.    7.   19.  444.]\n",
      "Running reward for the 4 bandits: [ -28.    3.   21.  469.]\n",
      "Running reward for the 4 bandits: [ -31.    3.   21.  496.]\n",
      "Running reward for the 4 bandits: [ -33.   -3.   24.  521.]\n",
      "The agent thinks bandit 4 is the most promising...\n",
      "...and it was right!\n"
     ]
    }
   ],
   "source": [
    "init = tf.global_variables_initializer()\n",
    "\n",
    "with tf.Session() as sess:\n",
    "    sess.run(init)\n",
    "    i = 0\n",
    "    while i < total_episodes:\n",
    "        # Epsilon greedy exploration \n",
    "        # choose random action - exploration or action from network - exploitation\n",
    "        if np.random.randn(1) < e:\n",
    "            action = np.random.randint(num_bandits)\n",
    "        else:\n",
    "            action = sess.run(chosen_action)\n",
    "        # get reward from picking one of the bandits\n",
    "        reward = pull_bandit(bandits[action])\n",
    "        # Update the network\n",
    "        _, _resp_weight, _weights = sess.run([update, responsible_weight, weights],\n",
    "                                             feed_dict={reward_placeholder: [reward],\n",
    "                                                        action_placeholder: [action]})\n",
    "        total_reward[action] += reward\n",
    "        # Logging\n",
    "        if i % 50 == 0:\n",
    "            print(f'Running reward for the {num_bandits} bandits: {total_reward}')\n",
    "        # increment i\n",
    "        i += 1\n",
    "print(f'The agent thinks bandit {np.argmax(_weights) + 1} is the most promising...')\n",
    "if np.argmax(_weights) == np.argmax(-np.array(bandits)):\n",
    "    print('...and it was right!')\n",
    "else:\n",
    "    print('...and it was wrong!')\n",
    "        "
   ]
  },
  {
   "cell_type": "code",
   "execution_count": null,
   "metadata": {
    "collapsed": true
   },
   "outputs": [],
   "source": []
  }
 ],
 "metadata": {
  "kernelspec": {
   "display_name": "Python 3",
   "language": "python",
   "name": "python3"
  },
  "language_info": {
   "codemirror_mode": {
    "name": "ipython",
    "version": 3
   },
   "file_extension": ".py",
   "mimetype": "text/x-python",
   "name": "python",
   "nbconvert_exporter": "python",
   "pygments_lexer": "ipython3",
   "version": "3.6.3"
  }
 },
 "nbformat": 4,
 "nbformat_minor": 2
}
