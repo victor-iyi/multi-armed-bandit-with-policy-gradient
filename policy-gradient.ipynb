{
 "cells": [
  {
   "cell_type": "markdown",
   "metadata": {
    "deletable": true,
    "editable": true
   },
   "source": [
    "# Policy Gradient\n",
    "\n",
    "### Dependencies"
   ]
  },
  {
   "cell_type": "code",
   "execution_count": 1,
   "metadata": {
    "collapsed": true,
    "deletable": true,
    "editable": true
   },
   "outputs": [],
   "source": [
    "import numpy as np\n",
    "import tensorflow as tf"
   ]
  },
  {
   "cell_type": "code",
   "execution_count": 2,
   "metadata": {
    "collapsed": true,
    "deletable": true,
    "editable": true
   },
   "outputs": [],
   "source": [
    "bandits = [0.2, 0, -0.2, -5]\n",
    "num_bandits = len(bandits)"
   ]
  },
  {
   "cell_type": "code",
   "execution_count": 3,
   "metadata": {
    "collapsed": true,
    "deletable": true,
    "editable": true
   },
   "outputs": [],
   "source": [
    "def pull_bandit(bandit):\n",
    "    result = np.random.randn(1)\n",
    "    return 1 if result > bandit else -1"
   ]
  },
  {
   "cell_type": "markdown",
   "metadata": {},
   "source": [
    "### The Model"
   ]
  },
  {
   "cell_type": "code",
   "execution_count": 4,
   "metadata": {
    "collapsed": true,
    "deletable": true,
    "editable": true
   },
   "outputs": [],
   "source": [
    "tf.reset_default_graph()\n",
    "\n",
    "weights = tf.Variable(tf.ones([num_bandits]))\n",
    "chosen_action = tf.argmax(weights, axis=0)"
   ]
  },
  {
   "cell_type": "code",
   "execution_count": 5,
   "metadata": {
    "collapsed": true,
    "deletable": true,
    "editable": true
   },
   "outputs": [],
   "source": [
    "reward_placeholder = tf.placeholder(tf.float32, shape=[1])\n",
    "action_placeholder = tf.placeholder(tf.int32, shape=[1])\n",
    "responsible_weight = tf.slice(weights, action_placeholder, size=[1])"
   ]
  },
  {
   "cell_type": "markdown",
   "metadata": {},
   "source": [
    "### Loss function and optimizer"
   ]
  },
  {
   "cell_type": "code",
   "execution_count": 6,
   "metadata": {
    "collapsed": false,
    "deletable": true,
    "editable": true
   },
   "outputs": [],
   "source": [
    "# loss = log(policy) * advantage    \n",
    "# policy is the learned weights while advantage is the reward-baseline\n",
    "loss = -(tf.log(responsible_weight) * reward_placeholder)\n",
    "optimizer = tf.train.GradientDescentOptimizer(learning_rate=1e-3)\n",
    "update = optimizer.minimize(loss)"
   ]
  },
  {
   "cell_type": "markdown",
   "metadata": {
    "deletable": true,
    "editable": true
   },
   "source": [
    "## Training the network\n",
    "\n",
    "### Hyperparameters"
   ]
  },
  {
   "cell_type": "code",
   "execution_count": 7,
   "metadata": {
    "collapsed": true,
    "deletable": true,
    "editable": true
   },
   "outputs": [],
   "source": [
    "total_episodes = 1000\n",
    "total_reward = np.zeros(num_bandits)\n",
    "e = 0.1  # epsilon - chance of trying different action (E-Greedy Exploration)"
   ]
  },
  {
   "cell_type": "markdown",
   "metadata": {},
   "source": [
    "### Training episodes"
   ]
  },
  {
   "cell_type": "code",
   "execution_count": 8,
   "metadata": {
    "collapsed": false,
    "deletable": true,
    "editable": true,
    "scrolled": false
   },
   "outputs": [
    {
     "name": "stdout",
     "output_type": "stream",
     "text": [
      "Bandit 1 looks good: [ 0.  0. -1.  0.]\n",
      "Bandit 4 looks good: [ -7.  -1.   2.  29.]\n",
      "Bandit 4 looks good: [ -7.   0.   2.  66.]\n",
      "Bandit 4 looks good: [ -4.  -1.  -1.  97.]\n",
      "Bandit 4 looks good: [  -5.    0.   -1.  127.]\n",
      "Bandit 4 looks good: [  -6.    0.    5.  162.]\n",
      "Bandit 4 looks good: [  -1.    2.    6.  196.]\n",
      "Bandit 4 looks good: [  -4.    2.    5.  228.]\n",
      "Bandit 4 looks good: [  -4.    0.    7.  258.]\n",
      "Bandit 4 looks good: [  -9.    3.   12.  283.]\n",
      "Bandit 4 looks good: [  -9.    1.   15.  316.]\n",
      "Bandit 4 looks good: [ -10.    2.   18.  347.]\n",
      "Bandit 4 looks good: [ -11.    0.   21.  377.]\n",
      "Bandit 4 looks good: [ -14.   -4.   25.  402.]\n",
      "Bandit 4 looks good: [ -16.   -6.   29.  430.]\n",
      "Bandit 4 looks good: [ -18.   -6.   30.  463.]\n",
      "Bandit 4 looks good: [ -19.  -12.   34.  494.]\n",
      "Bandit 4 looks good: [ -19.  -14.   32.  522.]\n",
      "Bandit 4 looks good: [ -19.  -15.   30.  555.]\n",
      "Bandit 4 looks good: [ -22.  -16.   31.  588.]\n",
      "\n",
      "\n",
      "The agent thinks bandit 4 is the most promising...\n",
      "...and it was right!\n"
     ]
    }
   ],
   "source": [
    "init = tf.global_variables_initializer()\n",
    "\n",
    "with tf.Session() as sess:\n",
    "    sess.run(init)\n",
    "    i = 0\n",
    "    while i < total_episodes:\n",
    "        # Epsilon greedy exploration \n",
    "        # choose random action - exploration or action from network - exploitation\n",
    "        if np.random.randn(1) < e:\n",
    "            action = np.random.randint(num_bandits)\n",
    "        else:\n",
    "            action = sess.run(chosen_action)\n",
    "        # get reward from picking one of the bandits\n",
    "        reward = pull_bandit(bandits[action])\n",
    "        # Update the network\n",
    "        _, _resp_weight, _weights = sess.run([update, responsible_weight, weights],\n",
    "                                             feed_dict={reward_placeholder: [reward],\n",
    "                                                        action_placeholder: [action]})\n",
    "        total_reward[action] += reward\n",
    "        # Logging\n",
    "        if i % 50 == 0:\n",
    "            print(f'Bandit {np.argmax(_weights)+1} looks good: {total_reward}')\n",
    "        # increment i\n",
    "        i += 1\n",
    "\n",
    "print(f'\\n\\nThe agent thinks bandit {np.argmax(_weights) + 1} is the most promising...')\n",
    "if np.argmax(_weights) == np.argmax(-np.array(bandits)):\n",
    "    print('...and it was right!')\n",
    "else:\n",
    "    print('...and it was wrong!')"
   ]
  },
  {
   "cell_type": "code",
   "execution_count": null,
   "metadata": {
    "collapsed": true,
    "deletable": true,
    "editable": true
   },
   "outputs": [],
   "source": []
  }
 ],
 "metadata": {
  "kernelspec": {
   "display_name": "Python 3",
   "language": "python",
   "name": "python3"
  },
  "language_info": {
   "codemirror_mode": {
    "name": "ipython",
    "version": 3
   },
   "file_extension": ".py",
   "mimetype": "text/x-python",
   "name": "python",
   "nbconvert_exporter": "python",
   "pygments_lexer": "ipython3",
   "version": "3.6.3"
  }
 },
 "nbformat": 4,
 "nbformat_minor": 2
}
